{
  "nbformat": 4,
  "nbformat_minor": 0,
  "metadata": {
    "colab": {
      "provenance": [],
      "authorship_tag": "ABX9TyNzBkSKjZCbAhAVaMnCQTP6",
      "include_colab_link": true
    },
    "kernelspec": {
      "name": "python3",
      "display_name": "Python 3"
    },
    "language_info": {
      "name": "python"
    }
  },
  "cells": [
    {
      "cell_type": "markdown",
      "metadata": {
        "id": "view-in-github",
        "colab_type": "text"
      },
      "source": [
        "<a href=\"https://colab.research.google.com/github/Prasad0505/Email_Verification_Project/blob/main/Email_Verification_Project.ipynb\" target=\"_parent\"><img src=\"https://colab.research.google.com/assets/colab-badge.svg\" alt=\"Open In Colab\"/></a>"
      ]
    },
    {
      "cell_type": "code",
      "execution_count": 1,
      "metadata": {
        "colab": {
          "base_uri": "https://localhost:8080/"
        },
        "id": "kFDHx2hwg0Ca",
        "outputId": "c3d20571-e3cd-4cdb-b08c-77b76e3edf11"
      },
      "outputs": [
        {
          "output_type": "stream",
          "name": "stdout",
          "text": [
            "Enter your email:prasadnalawade42138@gmail.com\n",
            "OTP send Successfully\n",
            "Enter OTP:2466\n",
            " Email is Verified Successfully\n"
          ]
        }
      ],
      "source": [
        "import random\n",
        "import smtplib\n",
        "server=smtplib.SMTP('smtp.gmail.com',587)\n",
        "server.starttls()\n",
        "p='asouigxwqkwhxsoj'\n",
        "server.login('prasadnalawade0505@gmail.com',p)\n",
        "otp=random.randrange(1111,9999)\n",
        "msg=str(otp)\n",
        "msg1='Your OTP is '+ (msg)\n",
        "email1=str(input(\"Enter your email:\"))\n",
        "server.sendmail('prasadnalawade0505@gmail.com',email1,msg1)\n",
        "print(\"OTP send Successfully\")\n",
        "server.quit()\n",
        "num=int(input(\"Enter OTP:\"))\n",
        "if otp==num:\n",
        "            print(\" Email is Verified Successfully\")\n",
        "else:\n",
        "            print(\" Email is Not verified, Please Try Again\")"
      ]
    }
  ]
}